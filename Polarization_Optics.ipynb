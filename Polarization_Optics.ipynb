{
  "nbformat": 4,
  "nbformat_minor": 0,
  "metadata": {
    "colab": {
      "name": "Polarization Optics.ipynb",
      "provenance": [],
      "collapsed_sections": [],
      "authorship_tag": "ABX9TyM7mu2LHgfaeeIB57dK3ukK"
    },
    "kernelspec": {
      "name": "python3",
      "display_name": "Python 3"
    },
    "language_info": {
      "name": "python"
    }
  },
  "cells": [
    {
      "cell_type": "markdown",
      "metadata": {
        "id": "Vy6a3hNEUke7"
      },
      "source": [
        "Partner:\n",
        "\n",
        "Date:"
      ]
    },
    {
      "cell_type": "markdown",
      "metadata": {
        "id": "xC6psboGUoiQ"
      },
      "source": [
        "# Objectives\n",
        "* To deepen your understanding of the behavior of polarizing beam splitters and linear polarizers.\n",
        "* To apply Malus's law to a situation of three consecutive polarizing elements."
      ]
    },
    {
      "cell_type": "markdown",
      "metadata": {
        "id": "irCa1fZxUyg6"
      },
      "source": [
        "# Install and import libraries"
      ]
    },
    {
      "cell_type": "code",
      "metadata": {
        "id": "iAJI7-PFUbyQ"
      },
      "source": [
        "!pip install whit-phys-util 1>/dev/null"
      ],
      "execution_count": null,
      "outputs": []
    },
    {
      "cell_type": "code",
      "metadata": {
        "id": "myeMnc5pU3SK"
      },
      "source": [
        "import numpy as np\n",
        "import pandas as pd\n",
        "import matplotlib.pyplot as plt\n",
        "from scipy.optimize import curve_fit\n",
        "import whit_phys_util as buc"
      ],
      "execution_count": null,
      "outputs": []
    },
    {
      "cell_type": "markdown",
      "metadata": {
        "id": "DBwlJhs8U5YU"
      },
      "source": [
        "# Connect to GitHub"
      ]
    },
    {
      "cell_type": "code",
      "metadata": {
        "id": "W4js5a80U7U4"
      },
      "source": [
        "repo = buc.local_repository(\"replace me\")"
      ],
      "execution_count": null,
      "outputs": []
    },
    {
      "cell_type": "markdown",
      "metadata": {
        "id": "R6XiWFfBU90N"
      },
      "source": [
        "# Equipment\n",
        "| Description | Manufacturer | Model | ID or SN |\n",
        "| ----------- | ------------ | ----- | -------- |\n",
        "| optical breadboard, 6\"x12\" | Thorlabs | MB612F | --- |\n",
        "| linear polarizer (2) in mount | Thorlabs | LPVISE100-A, RSP1D | --- |\n",
        "| polarizing beam splitter on mount | Thorlabs | PBS101, KM100PM | --- |\n",
        "| laser diode module, 532 nm, 0.9 mW | Thorlabs | CPS532-C2, AD11NT, FMP1 | --- |\n",
        "| laser power supply | Thorlabs | LDS5 | --- |\n",
        "| amplified photodetector | Thorlabs | PDA36A | --- |\n",
        "| oscilloscope | Siglent | SDS1052DL | fill in |\n",
        "| posts (multiple) | Thorlabs | TR2 | --- |\n",
        "| post holders (multiple) | Thorlabs | PH2 | --- |\n",
        "| bases (multiple) | Thorlabs | BA1 | --- |\n",
        "| BNC cable | --- | --- | --- |\n",
        "| 1/4-20 bolts | --- | --- | --- |\n",
        "| 3/16\" hex driver | --- | --- | --- |\n",
        "\n",
        "**Warning: Class 2 laser. Do not stare into beam.**\n"
      ]
    },
    {
      "cell_type": "code",
      "metadata": {
        "id": "1eJ9TX1zkLuN"
      },
      "source": [
        ""
      ],
      "execution_count": null,
      "outputs": []
    }
  ]
}
